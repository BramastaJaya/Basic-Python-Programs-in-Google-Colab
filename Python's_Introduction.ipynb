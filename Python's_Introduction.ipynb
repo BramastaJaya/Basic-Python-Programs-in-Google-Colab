{
  "cells": [
    {
      "cell_type": "markdown",
      "metadata": {
        "id": "view-in-github",
        "colab_type": "text"
      },
      "source": [
        "<a href=\"https://colab.research.google.com/github/BramastaJaya/Basic-Python-Programs-in-Google-Colab/blob/main/Python's_Introduction.ipynb\" target=\"_parent\"><img src=\"https://colab.research.google.com/assets/colab-badge.svg\" alt=\"Open In Colab\"/></a>"
      ]
    },
    {
      "cell_type": "markdown",
      "metadata": {
        "id": "gkbWiwLwozPh"
      },
      "source": [
        "<div align=\"center\">\n",
        "<h1>Jurnal Praktikum Dasar Kecerdasan Artifisial</h1>\n",
        "<h3>Modul: Pengenalan Python</h3>\n",
        "</div>"
      ]
    },
    {
      "cell_type": "markdown",
      "metadata": {
        "id": "qTPHxMX4ozPn"
      },
      "source": [
        "### 1. Program Sederhana dengan Python (Bobot Nilai: `5`)"
      ]
    },
    {
      "cell_type": "markdown",
      "metadata": {
        "id": "1EZpMRIiozPp"
      },
      "source": [
        "**a.** Buat program yang menampilkan kata \"Hello, World!\" pada terminal dengan menggunakan `print()`"
      ]
    },
    {
      "cell_type": "code",
      "execution_count": null,
      "metadata": {
        "id": "v43SFMKkozPq",
        "colab": {
          "base_uri": "https://localhost:8080/"
        },
        "outputId": "e5de8341-2e72-480e-d0d4-89c2e540c3b6"
      },
      "outputs": [
        {
          "output_type": "stream",
          "name": "stdout",
          "text": [
            "Hello, World!\n"
          ]
        }
      ],
      "source": [
        "print(\"Hello, World!\")"
      ]
    },
    {
      "cell_type": "markdown",
      "metadata": {
        "id": "jAFtwkeQozPt"
      },
      "source": [
        "*Test case* program\n",
        "\n",
        "|**Input**|**Output**    |\n",
        "|---------|--------------|\n",
        "|         |'Hello, World!'|"
      ]
    },
    {
      "cell_type": "markdown",
      "metadata": {
        "id": "du8mh1KgozPt"
      },
      "source": [
        "**b.** Isi variabel rasio dengan akar dari 9 $(\\sqrt{9})$.\n",
        "Tip: untuk menghitung akar pangkat 2 dari $x$, dapat menggunakan x**(1/2)"
      ]
    },
    {
      "cell_type": "code",
      "execution_count": null,
      "metadata": {
        "id": "FTEwxGTIozPu",
        "colab": {
          "base_uri": "https://localhost:8080/"
        },
        "outputId": "5680a04b-a51a-479c-92e4-63be505e3f88"
      },
      "outputs": [
        {
          "output_type": "stream",
          "name": "stdout",
          "text": [
            "3.0\n"
          ]
        }
      ],
      "source": [
        "akar_sembilan = 9**0.5\n",
        "print(akar_sembilan)"
      ]
    },
    {
      "cell_type": "markdown",
      "metadata": {
        "id": "GT1j-yucozPv"
      },
      "source": [
        "*Test case* program\n",
        "\n",
        "|**Input**|**Output**    |\n",
        "|---------|--------------|\n",
        "|         |'3.0'|"
      ]
    },
    {
      "cell_type": "markdown",
      "metadata": {
        "id": "lQxzPgMwozPy"
      },
      "source": [
        "**c.** Program di bawah ini menghitung nilai dari persamaan kuadrat $20x^2 + 25x + 30$ dengan meminta *input* dari pengguan untuk variabel $x$. Minta *input* pada pengguna dengan deskripsi `\"Masukkan nilai x: \"`, kemudian ubah variabel `x` menjadi `float`"
      ]
    },
    {
      "cell_type": "code",
      "execution_count": null,
      "metadata": {
        "id": "cQzcuoXSozP0",
        "colab": {
          "base_uri": "https://localhost:8080/"
        },
        "outputId": "f8c04b6f-e686-40e0-d526-d69edc8a0bd1"
      },
      "outputs": [
        {
          "output_type": "stream",
          "name": "stdout",
          "text": [
            "Masukkan nilai x: 5\n",
            "655.0\n"
          ]
        }
      ],
      "source": [
        "x = input(\"Masukkan nilai x: \")\n",
        "x = float(x)\n",
        "\n",
        "hasil_persamaan = 20*x**2 + 25*x + 30\n",
        "print(hasil_persamaan)"
      ]
    },
    {
      "cell_type": "markdown",
      "metadata": {
        "id": "E5NR5bDcozP3"
      },
      "source": [
        "*Test case* program\n",
        "\n",
        "|**Input**|**Output**    |\n",
        "|---------|--------------|\n",
        "|Masukkan nilai x: `3` |'285'|\n",
        "|Masukkan nilai x: `4` |'450'|\n",
        "|Masukkan nilai x: `5`|'655'|"
      ]
    },
    {
      "cell_type": "markdown",
      "metadata": {
        "id": "k4XZ45w0ozP4"
      },
      "source": [
        "### 2.  Pengkondisian dalam Python (Bobot Nilai: `10`)"
      ]
    },
    {
      "cell_type": "markdown",
      "metadata": {
        "id": "DMVeFI0AozP5"
      },
      "source": [
        "**a.** Buat program untuk mengecek apakah suatu bilangan ganjil atau genap. Jika bilangan tersebut ganjil maka tampilkan `\"Bilangan Ganjil\"` pada terminal, sedangkan jika bilangan tersebut genap maka tampilkan `\"Bilangan Genap\"` pada terminal. Minta *input* pada pengguna dengan deskripsi (tidak ada ketentuan khusus untuk deskripsi), kemudian ubah variabel yang menampung hasil *input* pengguna menjadi `.integer`"
      ]
    },
    {
      "cell_type": "code",
      "execution_count": null,
      "metadata": {
        "id": "r4XcJCo3ozP6",
        "colab": {
          "base_uri": "https://localhost:8080/"
        },
        "outputId": "4137dcd1-bd6f-4581-b817-74950545a1ba"
      },
      "outputs": [
        {
          "output_type": "stream",
          "name": "stdout",
          "text": [
            "Masukkan sebuah angka: 5\n",
            "Bilangan Ganjil\n"
          ]
        }
      ],
      "source": [
        "n = input(\"Masukkan sebuah angka: \")\n",
        "n = int(n)\n",
        "\n",
        "if n % 2 == 0:\n",
        "    print(\"Bilangan Genap\")\n",
        "else:\n",
        "    print(\"Bilangan Ganjil\")"
      ]
    },
    {
      "cell_type": "markdown",
      "metadata": {
        "id": "3eR4vwP9ozP7"
      },
      "source": [
        "*Test case* program\n",
        "\n",
        "|**Input**|**Output**    |\n",
        "|---------|--------------|\n",
        "|Masukkan nilai: `3` |'Bilangan Ganjil'|\n",
        "|Masukkan nilai: `4` |'Bilangan Genap'|\n",
        "|Masukkan nilai: `5`|'Bilangan Ganjil'|"
      ]
    },
    {
      "cell_type": "markdown",
      "metadata": {
        "id": "gPdSP-xmozP8"
      },
      "source": [
        "**b.** Buat program untuk meminta *input* nilai dari pengguna dalam rentang 0 hingga 100. Program tersebut menerima nilai dan menampilkan indeks huruf dari nilai tersebut pada terminal sesuai dengan kriteria berikut\n",
        "- **A**: 85 - 100\n",
        "- **B**: 70 - 84\n",
        "- **C**: 55 - 69\n",
        "- **D**: 40 - 54\n",
        "- **E**: 0 - 39"
      ]
    },
    {
      "cell_type": "code",
      "execution_count": null,
      "metadata": {
        "id": "O3MgTOWxozP9",
        "colab": {
          "base_uri": "https://localhost:8080/"
        },
        "outputId": "931b6f26-ff52-4631-85d1-f12330a729be"
      },
      "outputs": [
        {
          "output_type": "stream",
          "name": "stdout",
          "text": [
            "Masukkan nilai 0 - 100: 42\n",
            "Astaga dapet D\n"
          ]
        }
      ],
      "source": [
        "nilai = input(\"Masukkan nilai 0 - 100: \")\n",
        "nilai = int(nilai)\n",
        "if nilai > 100:\n",
        "  print(\"salah masukkan angka!\")\n",
        "elif nilai >= 85:\n",
        "  print(\"Wow dapet A\")\n",
        "elif nilai >= 70:\n",
        "  print(\"Eleh dapet B\")\n",
        "elif nilai >= 55:\n",
        "  print(\"Dihh dapet C\")\n",
        "elif nilai >= 40:\n",
        "  print(\"Astaga dapet D\")\n",
        "elif nilai >= 0:\n",
        "  print(\"Serius dapet E?\")\n",
        "else:\n",
        "  print(\"Anda salah memasukkan angka!\")"
      ]
    },
    {
      "cell_type": "markdown",
      "metadata": {
        "id": "nEzXF1RgozP9"
      },
      "source": [
        "*Test case* program\n",
        "\n",
        "|**Input**|**Output**    |\n",
        "|---------|--------------|\n",
        "|Masukkan nilai user: `91` |'A'|\n",
        "|Masukkan nilai user: `75` |'B'|\n",
        "|Masukkan nilai user: `42`|'D'|"
      ]
    },
    {
      "cell_type": "markdown",
      "metadata": {
        "id": "J9cqWX5RozP9"
      },
      "source": [
        "### 3. Prosedur dan Fungsi (Bobot Nilai: `10`)"
      ]
    },
    {
      "cell_type": "markdown",
      "metadata": {
        "id": "wCG6qLiAozP9"
      },
      "source": [
        "**a.** Buatlah sebuah prosedur yang menerima parameter berupa nama. Jika nama yang diberikan adalah `\"Reza\"`, prosedur akan mencetak output `\"Selamat datang kembali, [nama]\"`. Jika nama yang diberikan bukan \"Reza\", prosedur akan mencetak output `\"Selamat datang, [nama]\"`. Sesuaikan output berdasarkan nama yang diterima oleh parameter."
      ]
    },
    {
      "cell_type": "code",
      "execution_count": null,
      "metadata": {
        "id": "RmAWqSaqozP-",
        "colab": {
          "base_uri": "https://localhost:8080/"
        },
        "outputId": "8ac2e43d-405a-4d99-b34f-3eec4cec5748"
      },
      "outputs": [
        {
          "output_type": "stream",
          "name": "stdout",
          "text": [
            "Silahkan masukkan nama anda: Tiara\n",
            "Selamat datang, Tiara\n"
          ]
        }
      ],
      "source": [
        "def greet_reza(nama) :\n",
        "    if nama == \"Reza\" :\n",
        "        print(\"Selamat datang kembali, \" + nama)\n",
        "    else :\n",
        "        print(\"Selamat datang, \" + nama)\n",
        "\n",
        "input_nama = input(\"Silahkan masukkan nama anda: \")\n",
        "input_nama = str(input_nama)\n",
        "greet_reza(input_nama)"
      ]
    },
    {
      "cell_type": "markdown",
      "metadata": {
        "id": "mQ5TZK4WozP_"
      },
      "source": [
        "*Test case* program\n",
        "\n",
        "|**Input**|**Output**    |\n",
        "|---------|--------------|\n",
        "|Masukkan nama: `Afeef` |'Selamat datang, Afeef'|\n",
        "|Masukkan nama: `Reza` |'Selamat datang kembali, Reza'|\n",
        "|Masukkan nama: `Tiara`|'Selamat datang, Tiara'|"
      ]
    },
    {
      "cell_type": "markdown",
      "metadata": {
        "id": "FNkUczoIozQA"
      },
      "source": [
        "**b.** Buatlah sebuah fungsi sederhana yang mengonversi jarak dari kilometer (KM) menjadi meter (M). Fungsi ini akan menerima input berupa jarak dalam kilometer, kemudian mengembalikan hasil konversi dalam meter."
      ]
    },
    {
      "cell_type": "code",
      "execution_count": null,
      "metadata": {
        "id": "0ZyE0evHozQB",
        "colab": {
          "base_uri": "https://localhost:8080/"
        },
        "outputId": "f2fdeee7-e43f-41cf-e7e3-f07ad799e1c9"
      },
      "outputs": [
        {
          "output_type": "stream",
          "name": "stdout",
          "text": [
            "Masukkan jarak kilometer: 5.5\n",
            "5.5km sama dengan 5500m\n"
          ]
        }
      ],
      "source": [
        "def converted(m):\n",
        "    return m*1000\n",
        "\n",
        "km = input(\"Masukkan jarak kilometer: \")\n",
        "m = float(km)\n",
        "\n",
        "hasil_konversi = int(converted(m))\n",
        "print(km + \"km sama dengan \" + str(hasil_konversi) + \"m\")"
      ]
    },
    {
      "cell_type": "markdown",
      "metadata": {
        "id": "z6oCTSlKozQD"
      },
      "source": [
        "*Test case* program\n",
        "\n",
        "|**Input**|**Output**    |\n",
        "|---------|--------------|\n",
        "|Masukkan jarak (KM): `3` |'3000'|\n",
        "|Masukkan jarak (KM): `4` |'4000'|\n",
        "|Masukkan jarak (KM): `5.5`|'5500'|"
      ]
    },
    {
      "cell_type": "markdown",
      "metadata": {
        "id": "bn4D-FKKozQD"
      },
      "source": [
        "### 4. Perulangan (Bobot Nilai: `15`)"
      ]
    },
    {
      "cell_type": "markdown",
      "metadata": {
        "id": "HJE5gp2zozQE"
      },
      "source": [
        "**a.** Buatlah program yang menerima *input* dari pengguna berupa sebuah bilangan bulat positif `n`. Program tersebut harus menampiklan semua bilangan ganjil dari 1 hingga `n` menggunakan perulangan `for` dan fungsi `range()`. Top: gunakan langkah kelipatan 2 dalam `range()` untuk menampilkan hanya angka ganjil."
      ]
    },
    {
      "cell_type": "code",
      "execution_count": null,
      "metadata": {
        "id": "bY5kwIj4ozQG",
        "colab": {
          "base_uri": "https://localhost:8080/"
        },
        "outputId": "5fafe60c-f36a-49f4-b844-7f7ab152f6e3"
      },
      "outputs": [
        {
          "output_type": "stream",
          "name": "stdout",
          "text": [
            "Masukkan sebuah angka: 11\n",
            "1\n",
            "3\n",
            "5\n",
            "7\n",
            "9\n",
            "11\n"
          ]
        }
      ],
      "source": [
        "value = input(\"Masukkan sebuah angka: \")\n",
        "value = int(value)\n",
        "\n",
        "for i in range(1, value+1, 2) :\n",
        "    print(i)"
      ]
    },
    {
      "cell_type": "markdown",
      "metadata": {
        "id": "sAQ4LuBvozQH"
      },
      "source": [
        "*Test case* program\n",
        "\n",
        "|**Input**|**Output**    |\n",
        "|---------|--------------|\n",
        "|Masukkan n: `1` |'1'|\n",
        "|Masukkan n: `6` |'1'<br>'1'<br>'5'|\n",
        "|Masukkan n: `11`|'1'<br>'3'<br>'5'<br>'7'<br>'9'<br>'11'|"
      ]
    },
    {
      "cell_type": "markdown",
      "metadata": {
        "id": "eHRfhntxozQH"
      },
      "source": [
        "**b.** Buatlah sebuah fungsi yang menerima argumen `n` dan mengembalikan jumlah dari bilangan bulat dari 1 hingga n.  Sebagai contoh, jika `n = 5`, fungsi tersebut harus menghitung penjumlahan **$1+2+3+4+5$** dan mengembalikan nilai 15. Jika `n` kurang dari 1, kembalikan nilai 0. Gunakan perulangan `while` untuk menghitung jumlah tersebut."
      ]
    },
    {
      "cell_type": "code",
      "execution_count": null,
      "metadata": {
        "id": "lY_YH406ozQI",
        "colab": {
          "base_uri": "https://localhost:8080/"
        },
        "outputId": "b67f049f-924a-4d32-e904-576f266c7982"
      },
      "outputs": [
        {
          "output_type": "stream",
          "name": "stdout",
          "text": [
            "Masukkan angka: 10\n",
            "10 = 55\n"
          ]
        }
      ],
      "source": [
        "def increment(value):\n",
        "    if value < 1 :\n",
        "        return 0\n",
        "    else :\n",
        "        total = 0\n",
        "        i = 1\n",
        "        while i <= value:\n",
        "            total += i\n",
        "            i+=1\n",
        "        return total\n",
        "\n",
        "str_value = input(\"Masukkan angka: \")\n",
        "int_value = int(str_value)\n",
        "\n",
        "sum_result = increment(int_value)\n",
        "print(str(int_value) + \" = \" + str(sum_result))"
      ]
    },
    {
      "cell_type": "markdown",
      "metadata": {
        "id": "lAztCVJ-ozQJ"
      },
      "source": [
        "*Test case* program\n",
        "\n",
        "|**Input**|**Output**    |\n",
        "|---------|--------------|\n",
        "|Masukkan n: `5` |'15'|\n",
        "|Masukkan n: `10` |'55'|\n",
        "|Masukkan n: `-3`|'0'|"
      ]
    },
    {
      "cell_type": "markdown",
      "metadata": {
        "id": "CY2YBW5EozQJ"
      },
      "source": [
        "### 5. List dan Dictionary (Bobot Nilai: `20`)"
      ]
    },
    {
      "cell_type": "markdown",
      "metadata": {
        "id": "vY4-jIgSozQK"
      },
      "source": [
        "**a.** Buat program yang mengganti ekstensi `.go` menjadi `.py` pada setiap elemen dalam list `filenames`. Gunakan metode `.replace()` untuk mengubah ekstensi, kemudian simpan nama file yang telah diubah ke dalam list baru bernama `new_filenames` dan kemudian cetak list ke dalam terminal.\n",
        "\n",
        "Tip :\n",
        "```python\n",
        "sapa_tiara = \"Hai Tiara!!\"\n",
        "print(\"Sapa Tiara:\", sapa_tiara)\n",
        "\n",
        "sapa_farah = sapa_tiara.replace(\"Tiara\", \"Farah\")\n",
        "print(\"Sapa Farah:\", sapa_farah)\n",
        "```\n",
        "\n",
        "output\n",
        "```\n",
        "Sapa Tiara: Hai Tiara!!\n",
        "Sapa Farah: Hai Farah!!\n",
        "```"
      ]
    },
    {
      "cell_type": "code",
      "execution_count": null,
      "metadata": {
        "id": "1uX7VIUmozQL",
        "colab": {
          "base_uri": "https://localhost:8080/"
        },
        "outputId": "7ae16266-e111-4948-8dfd-61ee54333f25"
      },
      "outputs": [
        {
          "output_type": "stream",
          "name": "stdout",
          "text": [
            "['app.py', 'main.py', 'formula.py', 'program.py']\n"
          ]
        }
      ],
      "source": [
        "filenames = [\"app.go\", \"main.go\", \"formula.go\", \"program.go\"]\n",
        "new_filenames = []\n",
        "\n",
        "for i in filenames :\n",
        "    new_name = i.replace(\"go\", \"py\")\n",
        "    new_filenames.append(new_name)\n",
        "\n",
        "print(new_filenames)"
      ]
    },
    {
      "cell_type": "markdown",
      "metadata": {
        "id": "UjpS4ZbnozQL"
      },
      "source": [
        "*Test case* program\n",
        "\n",
        "|**Input**|**Output**    |\n",
        "|---------|--------------|\n",
        "|         |['app.py', 'main.py', 'formula.py', 'program.py']|"
      ]
    },
    {
      "cell_type": "markdown",
      "metadata": {
        "id": "vJnMheTXozQM"
      },
      "source": [
        "Buatlah fungsi `email_list` yang menerima sebuah dictionary. Dictonary ini berisi nama domain sebagai `key`, dan daftar pengguna sebagai `value`. Lengkapi bagian yang kosong dalam fungsi untuk menghasilkan daftar yang berisi alamat email lengkap (misalnya, `dwiva.arya@gmail.com`). Alamat email ini dihasilkan dengan menggabungkan setiap nama pengguna dengan nama domain yang sesuai.\n",
        "\n",
        "Tip:\n",
        "```python\n",
        "gender_dict = {\n",
        "    \"Rafly\" : \"Laki-Laki\",\n",
        "    \"Iksan\" : \"Laki-Laki\",\n",
        "    \"Imelda\" : \"Perempuan\"\n",
        "}\n",
        "\n",
        "for key, value in gender_dict.items() :\n",
        "    print(\"Key:\", key, \", Value:\", value)\n",
        "```\n",
        "\n",
        "Output\n",
        "```\n",
        "Key: Rafly , Value: Laki-Laki\n",
        "Key: Iksan , Value: Laki-Laki\n",
        "Key: Imelda , Value: Perempuan\n",
        "```"
      ]
    },
    {
      "cell_type": "code",
      "execution_count": null,
      "metadata": {
        "id": "HAVq3LJrozQM",
        "colab": {
          "base_uri": "https://localhost:8080/"
        },
        "outputId": "c6a5eea0-2af4-4083-d6da-79c60b5eacaa"
      },
      "outputs": [
        {
          "output_type": "stream",
          "name": "stdout",
          "text": [
            "['rafly.arj@gmail.com', 'syahreza.adnan@gmail.com', 'valen.hartanto@gmail.com', 'sabrina.tiara@telkomuniversity.ac.id', 'imelda@telkomuniversity.ac.id', 'raihan.omen@yahoo.com', 'dito.asyraf@yahoo.com']\n"
          ]
        }
      ],
      "source": [
        "def email_list(domains):\n",
        "    emails = []\n",
        "    for i, j in domains.items():\n",
        "        for user in j:\n",
        "            emails.append(user+'@'+ i)\n",
        "\n",
        "    return emails\n",
        "\n",
        "\n",
        "email_domain = {\n",
        "    \"gmail.com\"              : [\"rafly.arj\", \"syahreza.adnan\", \"valen.hartanto\"],\n",
        "    \"telkomuniversity.ac.id\" : [\"sabrina.tiara\", \"imelda\"],\n",
        "    \"yahoo.com\"              : [\"raihan.omen\", \"dito.asyraf\"]\n",
        "}\n",
        "\n",
        "dictionary_domain = email_list(email_domain)\n",
        "\n",
        "print(dictionary_domain)\n"
      ]
    },
    {
      "cell_type": "markdown",
      "metadata": {
        "id": "S15mm4TNozQN"
      },
      "source": [
        "*Test case* program\n",
        "\n",
        "|**Input**|**Output**    |\n",
        "|---------|--------------|\n",
        "|         |['rafly.arj@gmail.com', 'syahreza.adnan@gmail.com', 'valen.hartanto@gmail.com', 'sabrina.tiara@telkomuniversity.ac.id', 'imelda@telkomuniversity.ac.id', 'raihan.omen@yahoo.com', 'dito.asyraf@yahoo.com']|"
      ]
    },
    {
      "cell_type": "markdown",
      "metadata": {
        "id": "5k5_5dDJozQO"
      },
      "source": [
        "### 6. Soal Cerita (Bobot Nilai: `40`)\n",
        "\n",
        "Seorang guru ingin membuat program sederhana untuk mencatat nilai ujian siswa. Setiap siswa akan mengikuti **tiga mata pelajaran**. Guru perlu menghitung rata-rata nilai untuk setiap siswa dan menentukan apakah siswa tersebut **lulus** atau **tidak**. Kriteria kelulusan adalah jika rata-rata nilai siswa sama dengan atau lebih dair **70**.\n",
        "\n",
        "Buatlah program yang melakukan hal berikut :\n",
        "1. **Input/Output**\n",
        "    - Meminta input dari pengguna berupa `nama siswa` dan `nilai` untuk tiga mata pelajaran\n",
        "    - Menampilkan **rata-rata nilai** dan **status kelulusan** setiap siswa\n",
        "\n",
        "2. **Penentuan kelulusan**\n",
        "    - Menentukan apakah siswa **lulus** atau **tidak** berdasarkan rata-rata nilainya.\n",
        "\n",
        "3. **Pengulangan program**\n",
        "    - Menggunakan perulangan untuk memasukkan data beberapa siswa hingga pengguna memasukkan `\"selesai\"` sebagai nama siswa\n",
        "\n",
        "4. **Perhitungan rata-rata**\n",
        "    - Membuat fungsi untuk **menghitung rata-rata** yang menerima list nilai sebagai parameter dan mengembalikan rata-rata nilai dari list tersebut\n",
        "\n",
        "5. **Penyimpanan data**\n",
        "    - Gunakan *dictionary* dengan `keys` nama siswa, dan `value` list nilai dari siswa tersebut."
      ]
    },
    {
      "cell_type": "code",
      "execution_count": 1,
      "metadata": {
        "id": "nVl3jGVoozQO",
        "colab": {
          "base_uri": "https://localhost:8080/"
        },
        "outputId": "cb8078ff-ec37-4df6-b50e-673b2993c5ce"
      },
      "outputs": [
        {
          "output_type": "stream",
          "name": "stdout",
          "text": [
            "\n",
            "Masukkan nama siswa: Andi\n",
            "Masukkan nilai siswa: 80\n",
            "Masukkan nilai siswa: 75\n",
            "Masukkan nilai siswa: 90\n",
            "\n",
            "Masukkan nama siswa: selesai\n",
            "\n",
            "Data Siswa:\n",
            "{'Andi': [80.0, 75.0, 90.0]}\n",
            "Rata-rata nilai Andi adalah [81.66666666666667]. Status: Lulus\n"
          ]
        }
      ],
      "source": [
        "def add_key_value (data):\n",
        "  while True:\n",
        "    name = input(\"\\nMasukkan nama siswa: \")\n",
        "    if name.lower() == \"selesai\":\n",
        "      break\n",
        "    else:\n",
        "      data[name] = []\n",
        "      for j in range(0, 3):\n",
        "        grade = input(\"Masukkan nilai siswa: \")\n",
        "        grade = float(grade)\n",
        "        data[name].append(grade)\n",
        "  return data\n",
        "\n",
        "student_data = {}\n",
        "teacher = {}\n",
        "database = add_key_value(student_data)\n",
        "\n",
        "for i, j in database.items():\n",
        "  teacher[i] = []\n",
        "  total = 0\n",
        "  total = float(total)\n",
        "  add   = 0\n",
        "  add   = float(add)\n",
        "  for grade in j:\n",
        "    total+=grade\n",
        "    add+=1\n",
        "  avg = total/add\n",
        "  avg = float(avg)\n",
        "  teacher[i] = [avg]\n",
        "\n",
        "print(\"\\nData Siswa:\")\n",
        "print(database)\n",
        "for i,j in teacher.items():\n",
        "  for status in j:\n",
        "    status = int(status)\n",
        "    if status >= 70:\n",
        "      print(\"Rata-rata nilai \" + str(i) + \" adalah \" + format(j) + \". Status: Lulus\")\n",
        "    else:\n",
        "      print(\"Rata-rata nilai \" + str(i) + \" adalah \" + format(j) + \". Status: Tidak Lulus\")\n",
        "\n",
        "\n",
        "\n",
        "\n",
        "\n",
        "\n"
      ]
    },
    {
      "cell_type": "markdown",
      "metadata": {
        "id": "4KvfyDuTozQQ"
      },
      "source": [
        "**Bagian yang diberikan tanda `ini` adalah masukkan user**\n",
        "\n",
        "*Test case* program\n",
        "\n",
        "**|----------------------------------------------------------------------------------|**\n",
        "\n",
        "Masukkan nama siswa (atau ketik 'selesai' untuk berhenti): `Andi`\n",
        "\n",
        "Masukkan nilai mata pelajaran 1: `80`\n",
        "\n",
        "Masukkan nilai mata pelajaran 2: `75`\n",
        "\n",
        "Masukkan nilai mata pelajaran 3: `90`\n",
        "\n",
        "Rata-rata nilai Andi adalah 81.67. Status: Lulus\n",
        "\n",
        "Masukkan nama siswa (atau ketik 'selesai' untuk berhenti): `Budi`\n",
        "\n",
        "Masukkan nilai mata pelajaran 1: `60`\n",
        "\n",
        "Masukkan nilai mata pelajaran 2: `65`\n",
        "\n",
        "Masukkan nilai mata pelajaran 3: `70`\n",
        "\n",
        "Rata-rata nilai Budi adalah 65.00. Status: Tidak Lulus\n",
        "\n",
        "Masukkan nama siswa (atau ketik 'selesai' untuk berhenti): `selesai`\n",
        "\n",
        "Data Siswa:\n",
        "- Andi: [80, 75, 90], Rata-rata: 81.67, Status: Lulus\n",
        "- Budi: [60, 65, 70], Rata-rata: 65.00, Status: Tidak Lulus\n",
        "\n",
        "**|----------------------------------------------------------------------------------|**"
      ]
    }
  ],
  "metadata": {
    "kernelspec": {
      "display_name": "base",
      "language": "python",
      "name": "python3"
    },
    "language_info": {
      "codemirror_mode": {
        "name": "ipython",
        "version": 3
      },
      "file_extension": ".py",
      "mimetype": "text/x-python",
      "name": "python",
      "nbconvert_exporter": "python",
      "pygments_lexer": "ipython3",
      "version": "3.8.18"
    },
    "colab": {
      "provenance": [],
      "include_colab_link": true
    }
  },
  "nbformat": 4,
  "nbformat_minor": 0
}