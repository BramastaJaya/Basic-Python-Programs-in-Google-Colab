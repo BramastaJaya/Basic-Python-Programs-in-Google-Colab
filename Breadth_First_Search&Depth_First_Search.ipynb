{
  "cells": [
    {
      "cell_type": "markdown",
      "metadata": {
        "id": "view-in-github",
        "colab_type": "text"
      },
      "source": [
        "<a href=\"https://colab.research.google.com/github/BramastaJaya/Basic-Python-Programs-in-Google-Colab/blob/main/Breadth_First_Search%26Depth_First_Search.ipynb\" target=\"_parent\"><img src=\"https://colab.research.google.com/assets/colab-badge.svg\" alt=\"Open In Colab\"/></a>"
      ]
    },
    {
      "cell_type": "markdown",
      "metadata": {
        "id": "nc9l9P5YX_Zp"
      },
      "source": [
        "<div align='center'>\n",
        "    <h1>Jurnal Praktikum Dasar Kecerdasan Artifisial</h1>\n",
        "    <h3>Modul: Implementasi Breadth First Search dan Depth First Search</h3>\n",
        "</div>"
      ]
    },
    {
      "cell_type": "code",
      "execution_count": null,
      "metadata": {
        "id": "yXU28_uqX_Zu"
      },
      "outputs": [],
      "source": [
        "import networkx as nx # Library untuk membuat graf\n",
        "import matplotlib.pyplot as plt # Library untuk plot grafik"
      ]
    },
    {
      "cell_type": "code",
      "execution_count": null,
      "metadata": {
        "id": "T2EAm5svX_Zx"
      },
      "outputs": [],
      "source": [
        "# Posisi node\n",
        "pos = {\n",
        "    'PK': (0, 0),\n",
        "    'Terminal': (-1, 1),\n",
        "    'Stasiun': (1, 0),\n",
        "    'Pasar': (-1, -1),\n",
        "    'RS': (2, 0),\n",
        "}"
      ]
    },
    {
      "cell_type": "code",
      "execution_count": null,
      "metadata": {
        "id": "927x-UnsX_Zx"
      },
      "outputs": [],
      "source": [
        "# Fungsi pendukung untuk mencetak graf\n",
        "def show_graph(G, pos=None, title='') :\n",
        "  # Membuat pos jika pos tidak diberikan\n",
        "  if pos is None:\n",
        "      pos = nx.spring_layout(G)\n",
        "\n",
        "  # Fungsi untuk menggambar node\n",
        "  nx.draw(\n",
        "      G,                  # Graf NetworkX\n",
        "      pos,                # Posisi node\n",
        "      with_labels=True,   # Menampilkan nama node\n",
        "      node_color='red',   # Warna node\n",
        "      node_size=3500,     # Ukuran node\n",
        "      font_color=\"white\", # Warna font label node\n",
        "      font_weight=\"bold\", # Ketebalan font label node\n",
        "      width=5             # Ketebalan garis edge\n",
        "  )\n",
        "\n",
        "  # Mengambil label edge jika ada weight\n",
        "  edge_labels = nx.get_edge_attributes(G, 'weight')\n",
        "  # Fungsi untuk menggambar node\n",
        "  nx.draw_networkx_edge_labels(\n",
        "      G,\n",
        "      pos,\n",
        "      edge_labels=edge_labels, # Data weight\n",
        "      font_color='blue',       # Warna font label edge\n",
        "      font_weight=\"bold\",      # Berat font label edge\n",
        "      font_size=16,            # Ukuran font label edge\n",
        "  )\n",
        "\n",
        "  plt.margins(0.2)  # Memberikan margin pada plot\n",
        "  plt.title(title)  # Menampilkan judul graf jika diberikan\n",
        "  plt.show()        # Menampilkan graf menggunakan matplotlib\n"
      ]
    },
    {
      "cell_type": "markdown",
      "metadata": {
        "id": "Qj_Q4fSaX_Zx"
      },
      "source": [
        "### 1. Implementasi BFS pada *Weighted Undirected Graph* (Bobot Nilai: `50`)"
      ]
    },
    {
      "cell_type": "markdown",
      "metadata": {
        "id": "sYIjOU4kX_Zy"
      },
      "source": [
        "Dora adalah seorang penjelajah yang suka berpetualang di kota-kota baru. Kali ini, Dora mengunjungi sebuah kota bernama \"BojongCity\". Kota ini memiliki beberapa titik penting, seperti pusat kota, terminal bus, stasiun kereta, pasar, dan rumah sakit. Semua titik ini dihubungkan oleh jalan dengan jarak tertentu yang diukur dalam kilometer. Dora ingin mengetahui rute terpendek yang harus ia tempuh dari satu titik ke titik lainnya menggunakan jalan yang ada.\n",
        "\n",
        "Bantu Dora untuk membuat program Python yang dapat membantu Dora dengan membuat graf dengan langkah-langkah berikut:"
      ]
    },
    {
      "cell_type": "markdown",
      "metadata": {
        "id": "ockPBkJyX_Zy"
      },
      "source": [
        "**a.** Inisialisasi graf bernama `kota` menggunakan **graf tidak berarah** untuk menunjukkan arah perjalanan."
      ]
    },
    {
      "cell_type": "code",
      "execution_count": null,
      "metadata": {
        "id": "UBKix3cdX_Z0"
      },
      "outputs": [],
      "source": [
        "# Inisialisasi graf tidak berarah\n",
        "kota = nx.DiGraph()"
      ]
    },
    {
      "cell_type": "markdown",
      "metadata": {
        "id": "FEwONaJ8X_Z0"
      },
      "source": [
        "**b.** Tambahkan node untuk merepresentasikan setiap lokasi penting di kota BojongCity. Berikut ini adalah daftar node yang perlu ditambahkan ke dalam graf:\n",
        "- `PK`: Mewakili **Pusat Kota**.\n",
        "- `Terminal`: Mewakili **Terminal Bus**.\n",
        "- `Stasiun`: Mewakili **Stasiun Kereta**.\n",
        "- `Pasar`: Mewakili **Pasar**.\n",
        "- `RS`: Mewakili **Rumah Sakit**.\n",
        "\n",
        "Pastikan semua node tersebut ditambahkan ke dalam graf sehingga setiap lokasi di kota BojongCity dapat direpresentasikan dengan baik dan nantinya dapat dihubungkan oleh edge untuk menunjukkan rute di antara lokasi-lokasi tersebut."
      ]
    },
    {
      "cell_type": "code",
      "execution_count": null,
      "metadata": {
        "colab": {
          "base_uri": "https://localhost:8080/",
          "height": 539
        },
        "id": "YRF6Pn7zX_Z0",
        "outputId": "2fab4808-fc5e-4ce5-d629-130a4de942d5"
      },
      "outputs": [
        {
          "output_type": "display_data",
          "data": {
            "text/plain": [
              "<Figure size 640x480 with 1 Axes>"
            ],
            "image/png": "[encoded data removed]"
          },
          "metadata": {}
        }
      ],
      "source": [
        "# List daftar nama lokasi di kota BojongCity\n",
        "nodes = ('PK','Terminal','Stasiun','Pasar','RS')\n",
        "\n",
        "# Tambahkan node dari list variabel `nodes` pada graf kota\n",
        "kota.add_nodes_from(nodes)\n",
        "\n",
        "# Tampilkan graf kota setelah penambahan node\n",
        "show_graph(kota, pos=pos, title=\"Penambahan lokasi pada graf kota\")"
      ]
    },
    {
      "cell_type": "markdown",
      "metadata": {
        "id": "qz-fSnBnX_Z0"
      },
      "source": [
        "Contoh *output*:\n",
        "\n",
        "![Contoh output penambahan lokasi](./asset/1_tambahlokasi_kota.png)"
      ]
    },
    {
      "cell_type": "markdown",
      "metadata": {
        "id": "LX5MOqF1X_Z1"
      },
      "source": [
        "**c.** Pada graf kota, setiap edge mewakili hubungan antara dua lokasi, dan masing-masing hubungan memiliki jarak tempuh tertentu yang direpresentasikan sebagai `weight` pada graf. Berikut ini adalah daftar jarak antar lokasi yang ada di kota tersebut:\n",
        "\n",
        "- `Pusat Kota (PK)` ke `Terminal` memiliki jarak `4km`.\n",
        "- `Pusat Kota (PK)` ke `Stasiun` memiliki jarak `3km`.\n",
        "- `Stasiun` ke `Rumah Sakit (RS)` memiliki jarak `5km`.\n",
        "- `Terminal` ke `Pasar` memiliki jarak `3km`.\n",
        "- `Pasar` ke `Stasiun` memiliki jarak `1km`.\n",
        "- `Terminal` ke `Stasiun` memiliki jarak `6km`.\n",
        "\n",
        "Tugas Anda adalah menambahkan edge ke dalam graf untuk setiap hubungan lokasi yang terdaftar di atas. Pastikan setiap edge mencakup informasi jarak tempuh (weight) sebagai atribut tambahan."
      ]
    },
    {
      "cell_type": "code",
      "execution_count": null,
      "metadata": {
        "colab": {
          "base_uri": "https://localhost:8080/",
          "height": 539
        },
        "id": "iWOHpxu9X_Z1",
        "outputId": "fd0fd547-ac1b-44a5-ec6d-3892012743bb"
      },
      "outputs": [
        {
          "output_type": "display_data",
          "data": {
            "text/plain": [
              "<Figure size 640x480 with 1 Axes>"
            ],
            "image/png": "[encoded data removed]"
          },
          "metadata": {}
        }
      ],
      "source": [
        "# Daftar hubungan (edge) antar lokasi di BojongCity beserta jarak tempuh (weight) masing-masing\n",
        "edges = [\n",
        "    ('PK','Terminal', 4),\n",
        "    ('PK','Stasiun', 3),\n",
        "    ('Stasiun','RS', 5),\n",
        "    ('Terminal','Pasar', 3),\n",
        "    ('Pasar','Stasiun', 1),\n",
        "    ('Terminal','Stasiun', 6)\n",
        "]\n",
        "\n",
        "\n",
        "# Tambahkan edge beserta weightnya ke dalam graf kota\n",
        "for a,b,c in edges:\n",
        "  kota.add_edge(a,b,weight=c)\n",
        "\n",
        "# Tampilkan graf kota setelah penambahan edge\n",
        "show_graph(kota, pos=pos, title=\"Penambahan jarak pada grap kota\")"
      ]
    },
    {
      "cell_type": "markdown",
      "metadata": {
        "id": "kp5e76FhX_Z1"
      },
      "source": [
        "Contoh *output*:\n",
        "\n",
        "![Contoh output penambahan lokasi](./asset/2_tambahjarak_kota.png)"
      ]
    },
    {
      "cell_type": "markdown",
      "metadata": {
        "id": "moLu4sc1X_Z1"
      },
      "source": [
        "**d.** Pada potongan kode dibawah, buat program yang menampilkan informasi berikut:\n",
        "\n",
        "- **Daftar semua lokasi yang terdapat di BojongCity**: Program menampilkan output daftar lengkap lokasi pada graf.\n",
        "- **Jarak antar lokasi**: Program ini menampilkan output setiap hubungan antara dua lokasi dan mencantumkan jarak tempuh dalam satuan kilometer."
      ]
    },
    {
      "cell_type": "code",
      "execution_count": null,
      "metadata": {
        "colab": {
          "base_uri": "https://localhost:8080/"
        },
        "id": "AgWu_5ypX_Z2",
        "outputId": "fbc9544f-a604-4537-ba28-1fa95ca39c62"
      },
      "outputs": [
        {
          "output_type": "stream",
          "name": "stdout",
          "text": [
            "Elemen pada Graf kota\n",
            "Daftar lokasi yang terdapat pada kota 5\n",
            "\n",
            "PK ke Terminal memiliki jarak 4 km\n",
            "PK ke Stasiun memiliki jarak 3 km\n",
            "Terminal ke Pasar memiliki jarak 3 km\n",
            "Terminal ke Stasiun memiliki jarak 6 km\n",
            "Stasiun ke RS memiliki jarak 5 km\n",
            "Pasar ke Stasiun memiliki jarak 1 km\n"
          ]
        }
      ],
      "source": [
        "print(\"Elemen pada Graf kota\")\n",
        "print(\"Daftar lokasi yang terdapat pada kota\", kota.number_of_nodes())\n",
        "\n",
        "print() # Menambahkan baris kosong (biarkan kosong)\n",
        "\n",
        "# Loop melalui setiap edge pada graf untuk menampilkan informasi jarak (weight) antar lokasi\n",
        "# Setiap edge memiliki format (asal, tujuan, data), di mana `data` menyimpan atribut dari edge tersebut.\n",
        "for asal, tujuan, data in kota.edges(data=True) :\n",
        "    print(asal, \"ke\", tujuan, \"memiliki jarak\", data['weight'], \"km\")"
      ]
    },
    {
      "cell_type": "markdown",
      "metadata": {
        "id": "9ugyqTpKX_Z2"
      },
      "source": [
        "Contoh *output*:\n",
        "\n",
        "```\n",
        "Elemen pada Graf kota\n",
        "Daftar lokasi yang terdapat pada kota ['PK', 'Terminal', 'Stasiun', 'Pasar', 'RS']\n",
        "\n",
        "PK ke Terminal memiliki jarak 4 km\n",
        "PK ke Stasiun memiliki jarak 3 km\n",
        "Terminal ke Pasar memiliki jarak 3 km\n",
        "Terminal ke Stasiun memiliki jarak 6 km\n",
        "Stasiun ke RS memiliki jarak 5 km\n",
        "Stasiun ke Pasar memiliki jarak 1 km\n",
        "```"
      ]
    },
    {
      "cell_type": "markdown",
      "metadata": {
        "id": "yZ_b6O94X_Z2"
      },
      "source": [
        "**e.** Dora ingin mengetahui urutan perjalanan di kota BojongCity menggunakan algoritma `Breadth-First Search (BFS)`, dimulai dari `Pusat Kota (PK)` sebagai titik awal. Tugas anda adalah menampilkan daftar **edge** yang dilalui oleh algoritma BFS saat menjelajahi semua lokasi di kota, mulai dari node `PK`."
      ]
    },
    {
      "cell_type": "code",
      "execution_count": null,
      "metadata": {
        "colab": {
          "base_uri": "https://localhost:8080/"
        },
        "id": "k8NfWZKlX_Z2",
        "outputId": "820598da-fd00-41c1-952b-10a0d1278e8b"
      },
      "outputs": [
        {
          "output_type": "stream",
          "name": "stdout",
          "text": [
            "['PK', 'Terminal', 'Stasiun', 'Pasar', 'RS']\n"
          ]
        }
      ],
      "source": [
        "print(list(kota))"
      ]
    },
    {
      "cell_type": "markdown",
      "metadata": {
        "id": "CnB60yCMX_Z2"
      },
      "source": [
        "Contoh *output*:\n",
        "\n",
        "```\n",
        "[('PK', 'Terminal'), ('PK', 'Stasiun'), ('Terminal', 'Pasar'), ('Stasiun', 'RS')]\n",
        "```"
      ]
    },
    {
      "cell_type": "markdown",
      "metadata": {
        "id": "M6XNGM9eX_Z2"
      },
      "source": [
        "**f.** Buatlah sebuah fungsi `bfs_search(bfs_tree, start, end)` yang dapat membangun jalur dari node awal (`start`) dan node tujuan (`end`) berdasarkan struktur `bfs_tree` yang diberikan.\n",
        "\n",
        "Fungsi `bfs_search()` harus melakukan langkah-langkah berikut :\n",
        "- Mulai dari `end` dan telusuri mundur ke `start` menggunakan informasi `parent-child` pada `bfs_tree`.\n",
        "- Simpan jalur yang ditemukan pada list `path`\n",
        "- Jika node `start` berhasil ditemukan, kembalikan `path` yang menunjukkan urutan dari node `start` ke `end`."
      ]
    },
    {
      "cell_type": "code",
      "execution_count": null,
      "metadata": {
        "id": "J09dTJrgX_Z3"
      },
      "outputs": [],
      "source": [
        "def bfs_search(bfs_tree, start, end):\n",
        "\n",
        "    path = []\n",
        "\n",
        "    current_node = end\n",
        "\n",
        "    while current_node != start:\n",
        "        path.append(current_node)\n",
        "        current_node = bfs_tree[current_node]\n",
        "\n",
        "    path.append(start)\n",
        "    path.reverse()\n",
        "\n",
        "    return path"
      ]
    },
    {
      "cell_type": "markdown",
      "metadata": {
        "id": "2PH7mDefX_Z3"
      },
      "source": [
        "**g.** Buatlah sebuah fungsi `calculate_total_distance(graph, path)` yang akan menghitung total jarak tempuh dari jalur `path` pada graf `graph`. Berikut adalah langkah-langkah yang harus dilakukan dalam fungsi `calculate_total_distance()`:\n",
        "- Inisialisasi variabel `total_distance` sebagai 0.\n",
        "- Lakukan loop untuk mengiterasi pada setiap node pada `path` (kecuali node terakhir).\n",
        "- Ambil jarak tempuh dari edge yang menghubungkan node saat ini (`node_awal`) ke node berikutnya (`node_tujuan`).\n",
        "- Tambahkan weight tersebut ke dalam `total_distance`."
      ]
    },
    {
      "cell_type": "code",
      "execution_count": null,
      "metadata": {
        "id": "0G9lyAHqX_Z3"
      },
      "outputs": [],
      "source": [
        "def calculate_total_distance(graph, path):\n",
        "    total_distance = 0\n",
        "\n",
        "    for i in range(len(path) - 1):\n",
        "        node_awal = path[i] # Node awal\n",
        "        node_tujuan = path[i+1] # Node tujuan\n",
        "\n",
        "         # Tambahkan weight dari edge\n",
        "        total_distance += graph[node_awal][node_tujuan]['weight']\n",
        "\n",
        "    return total_distance"
      ]
    },
    {
      "cell_type": "markdown",
      "metadata": {
        "id": "4-b2LVCzX_Z3"
      },
      "source": [
        "**h.** Buatlah sebuah program yang meminta input dari pengguna untuk menentukan:\n",
        "- **Node awal** (`start_node`): Titik awal perjalanan Dora di kota BojongCity.\n",
        "- **Node tujuan** (`end_node`): Titik tujuan yang ingin dicapai oleh Dora.\n",
        "\n",
        "Gunakan algoritma BFS untuk menelusuri graf yang mewakili kota, dimulai dari `start_node`. Simpan hasil BFS dalma bentuk pasang node (`bfs_edges`) yang menunjukkan jalur pencarian dari node awal ke node-node yang terhubung.\n",
        "\n",
        "Tampilkan hasil pencarian BFS (`bfs_edge`) yang menunjukkan semua node yang dikunjungi dan hubungan antar node yang ditemukan selama pencarian BFS dimulai dari `start_node`."
      ]
    },
    {
      "cell_type": "code",
      "execution_count": null,
      "metadata": {
        "colab": {
          "base_uri": "https://localhost:8080/"
        },
        "id": "K1YehRBtX_Z3",
        "outputId": "080af906-69c6-4dae-f80a-2bff3f49ba50"
      },
      "outputs": [
        {
          "output_type": "stream",
          "name": "stdout",
          "text": [
            "Kota asal: Terminal\n",
            "Kota tujuan: Stasiun\n",
            "Terminal disimpan sebagai lokasi awal\n",
            "Stasiun disimpan sebagai lokasi tujuan\n",
            "Hasil pencarian BFS dari lokasi awal: [('Terminal', 'Pasar'), ('Terminal', 'Stasiun'), ('Stasiun', 'RS')]\n"
          ]
        }
      ],
      "source": [
        "# Minta input dari pengguna untuk titik awal dan titik tujuan\n",
        "start_node = str(input(\"Kota asal: \"))\n",
        "end_node = str(input(\"Kota tujuan: \"))\n",
        "\n",
        "# Temukan rute terpendek menggunakan algoritma BFS\n",
        "# Menggunakan bfs_edges untuk mendapatkan jalur BFS dari node awal\n",
        "bfs_edges = list(nx.bfs_edges(kota, start_node))\n",
        "\n",
        "print(f\"{start_node} disimpan sebagai lokasi awal\")\n",
        "print(f\"{end_node} disimpan sebagai lokasi tujuan\")\n",
        "print(\"Hasil pencarian BFS dari lokasi awal:\", bfs_edges)"
      ]
    },
    {
      "cell_type": "markdown",
      "metadata": {
        "id": "1iprFPAeX_Z3"
      },
      "source": [
        "Contoh *output*:\n",
        "\n",
        "|input|output|\n",
        "|-----|------|\n",
        "|Masukkan titik awal: `Pasar`<br>Masukkan titk tujuan: `PK`|Pasar disimpan sebagai lokasi awal<br>PK disimpan sebagai lokasi tujuan<br>Hasil pencarian BFS dari lokasi awal: [('Pasar', 'Terminal'), ('Pasar', 'Stasiun'), ('Terminal', 'PK'), ('Stasiun', 'RS')]|\n",
        "|Masukkan titik awal: `Terminal`<br>Masukkan titk tujuan: `Stasiun`|Terminal disimpan sebagai lokasi awal<br>Stasiun disimpan sebagai lokasi tujuan<br>Hasil pencarian BFS dari lokasi awal: [('Terminal', 'PK'), ('Terminal', 'Pasar'), ('Terminal', 'Stasiun'), ('Stasiun', 'RS')]|"
      ]
    },
    {
      "cell_type": "markdown",
      "metadata": {
        "id": "SSigp8vlX_Z4"
      },
      "source": [
        "**i.** Buatlah deskripsi dictionary bernama `bfs_tree` yang menyimpan hubungan parent-child dari hasil BFS, Setiap key dalam dictionary `bfs_tree` mewakili node child (tujuan), dan value-nya mewakili node parent (asal).\n",
        "\n",
        "Gunakan pasangan node (`u`, `v`) yang diberikan oleh `bfs_edges` untuk membangun `bfs_tree`. Setiap pasangan(`u`, `v`) berarti :\n",
        "- `u` adalah parent dari `v`.\n",
        "- `v` adalah child dari `u`."
      ]
    },
    {
      "cell_type": "code",
      "execution_count": null,
      "metadata": {
        "id": "RIavX8zuX_Z4"
      },
      "outputs": [],
      "source": [
        "# Buat dictionary untuk melacak jalur dari titik awal ke semua node yang dikunjungi\n",
        "bfs_tree = {}\n",
        "for u, v in bfs_edges:\n",
        "    bfs_tree[v] = u"
      ]
    },
    {
      "cell_type": "markdown",
      "metadata": {
        "id": "oio0oQinX_Z4"
      },
      "source": [
        "**j.** Sekarang, Dora ingin mengetahui rute terpendek dari lokasi awal (`start_node`) ke lokasi tujuan (`end_node`) berdasarkan hasil penelusuran BFS tersebut. Selain itu, Dora juga ingin mengetahui tempat mana saja yang harus ia kunjungi. Selain itu, Dora juga ingin mengetahui total jarak tempuh dari jalur yang ditemukan agar ia dapat mempersiapkan dirinya.\n",
        "\n",
        "Buatlah program yang dapat menemukan rute terpendek dari node awal ke node tujuan menggunakan hasil penelurusan `bfs_tree` yang sudah dibuat dan program untuk menghitung total jarak tembuh dari jalu tersebut berdasarkan `weight` dari setiap edge yang dilalui dengan langkah-langkah berikut:\n",
        "- Gunakan fungsi `bfs_search()` untuk menemukan rute dari `start_node` ke `end_node`.\n",
        "- Jika terdapat jalur dari `start_node` ke `end_node`, hitung total jarak tempuh dari jalur tersebut menggunakan fungsi `calculate_total_distance()`.\n",
        "- Tampilkan rute terpendek dan total jarak tempuh yang ditemukan."
      ]
    },
    {
      "cell_type": "code",
      "execution_count": null,
      "metadata": {
        "id": "71GE1MplX_Z4",
        "colab": {
          "base_uri": "https://localhost:8080/"
        },
        "outputId": "bbdfefa0-10fa-401b-b46f-254d02bb4452"
      },
      "outputs": [
        {
          "output_type": "stream",
          "name": "stdout",
          "text": [
            "Rute terpendek dari Terminal ke Stasiun: ['Terminal', 'Stasiun']\n",
            "Total jarak tempuh: 6 km\n"
          ]
        }
      ],
      "source": [
        "# Temukan jalur dari titik awal ke titik tujuan\n",
        "shortest_path = bfs_search(bfs_tree, start_node, end_node)\n",
        "\n",
        "# Jika jalur ditemukan, hitung total jarak berdasarkan rute yang ditemukan\n",
        "if shortest_path:\n",
        "    total_distance = calculate_total_distance(kota, shortest_path)\n",
        "    print(f\"Rute terpendek dari {start_node} ke {end_node}: {shortest_path}\")\n",
        "    print(f\"Total jarak tempuh: {total_distance} km\")"
      ]
    },
    {
      "cell_type": "markdown",
      "metadata": {
        "id": "A-Piss4XX_Z5"
      },
      "source": [
        "Contoh *output*:\n",
        "\n",
        "Jika sebelumnya memberikan input `Terminal` sebagai titik awal dan `Stasiun` sebagai titik tujuan\n",
        "```\n",
        "Rute terpendek dari Terminal ke Stasiun: ['Terminal', 'Stasiun']\n",
        "Total jarak tempuh: 6 km\n",
        "```\n",
        "\n",
        "Jika sebelumnya memberikan input `Pasar` sebagai titik awal dan `PK` sebagai titik tujuan\n",
        "```\n",
        "Rute terpendek dari Pasar ke PK: ['Pasar', 'Terminal', 'PK']\n",
        "Total jarak tempuh: 7 km\n",
        "```\n"
      ]
    },
    {
      "cell_type": "markdown",
      "metadata": {
        "id": "M5V96P7nX_Z5"
      },
      "source": [
        "### 2. Implementasi DFS pada *Tree* (Bobot Nilai: `50`)\n",
        "\n",
        "Budi adalah seorang mahasiswa yang sering bekerja dengan banyak folder dan file di laptopnya. Sebagai seorang mahasiswa yang aktif dalam berbagai kegiatan akademis dan organisasi, folder di laptop Budi serngkali menjadi sangat rumit dan bercabang-cabang, dengan banyak sub-folder dan file yang tersebar di berbagai tempat.\n",
        "\n",
        "Anda diminta untuk membuat sebuah program yang dapat membantu Budi melakukan penelusuran direktori menggunakan algoritma DFS. Program ini diharapkan dapat mempermudah Budi dalam menemukan file yang ia cari."
      ]
    },
    {
      "cell_type": "code",
      "execution_count": null,
      "metadata": {
        "id": "O0ltKvo2X_Z5"
      },
      "outputs": [],
      "source": [
        "import networkx as nx # Library untuk membuat graf\n",
        "import matplotlib.pyplot as plt # Library untuk plot grafik"
      ]
    },
    {
      "cell_type": "code",
      "execution_count": null,
      "metadata": {
        "id": "U47IdM-lX_Z6"
      },
      "outputs": [],
      "source": [
        "pos = {\n",
        "    \"Root\": (0, 0),\n",
        "    \"Documents\": (-1, -1),\n",
        "    \"Images\": (1, -1),\n",
        "    \"Videos\": (2, -1),\n",
        "    \"File1.txt\": (-1, -2),\n",
        "    \"File4.docx\": (-1.5, -2),\n",
        "    \"File2.jpg\": (1, -2),\n",
        "    \"File3.mp4\": (2, -2)\n",
        "}"
      ]
    },
    {
      "cell_type": "code",
      "execution_count": null,
      "metadata": {
        "id": "V56V0NTTX_Z6"
      },
      "outputs": [],
      "source": [
        "# Fungsi pendukung untuk mencetak graf\n",
        "def show_graph(G, pos=None, title='') :\n",
        "  # Membuat pos jika pos tidak diberikan\n",
        "  if pos is None:\n",
        "      pos = nx.spring_layout(G)\n",
        "\n",
        "  # Fungsi untuk menggambar node\n",
        "  nx.draw(\n",
        "      G,                  # Graf NetworkX\n",
        "      pos,                # Posisi node\n",
        "      with_labels=True,   # Menampilkan nama node\n",
        "      node_color='red',   # Warna node\n",
        "      node_size=2000,     # Ukuran node\n",
        "      font_color=\"white\", # Warna font label node\n",
        "      font_weight=\"bold\",\n",
        "      font_size=7,\n",
        "      width=5             # Ketebalan garis edge\n",
        "  )\n",
        "\n",
        "  # Mengambil label edge jika ada weight\n",
        "  edge_labels = nx.get_edge_attributes(G, 'weight')\n",
        "  # Fungsi untuk menggambar node\n",
        "  nx.draw_networkx_edge_labels(\n",
        "      G,\n",
        "      pos,\n",
        "      edge_labels=edge_labels, # Data weight\n",
        "      font_color='blue',       # Warna font label edge\n",
        "      font_weight=\"bold\",      # Berat font label edge\n",
        "      font_size=16,            # Ukuran font label edge\n",
        "  )\n",
        "\n",
        "  plt.margins(0.2)  # Memberikan margin pada plot\n",
        "  plt.title(title)  # Menampilkan judul graf jika diberikan\n",
        "  plt.show()        # Menampilkan graf menggunakan matplotlib"
      ]
    },
    {
      "cell_type": "markdown",
      "metadata": {
        "id": "1P5izLZeX_Z6"
      },
      "source": [
        "**a.** Inisialisasi graf bernama \"data_budi\" menggunakan **graf berarah** untuk menunjukkan arah perjalanan."
      ]
    },
    {
      "cell_type": "code",
      "execution_count": null,
      "metadata": {
        "id": "jTqFtYXCX_Z6"
      },
      "outputs": [],
      "source": [
        "# Inisialisasi graf berarah\n",
        "data_budi = nx.DiGraph()"
      ]
    },
    {
      "cell_type": "markdown",
      "metadata": {
        "id": "XXXTT0ksX_Z7"
      },
      "source": [
        "**b.** Tambahkan node ke dalam graf yang merepresentasikan folder dan file. Folder tersebut terdiri dari `Root`, `Documents`, `Images`, `Videos`, `File1.txt`, `File2.jpg`, `File3.mp4`, `File4.docx`."
      ]
    },
    {
      "cell_type": "code",
      "execution_count": null,
      "metadata": {
        "id": "1C68_aTwX_Z7",
        "colab": {
          "base_uri": "https://localhost:8080/",
          "height": 512
        },
        "outputId": "46a6019a-c511-4bd6-b5d5-fd2fb9f0d707"
      },
      "outputs": [
        {
          "output_type": "display_data",
          "data": {
            "text/plain": [
              "<Figure size 640x480 with 1 Axes>"
            ],
            "image/png": "[encoded data removed]"
          },
          "metadata": {}
        }
      ],
      "source": [
        "# List daftar nama file dan folder yang terdapat pada laptop Budi\n",
        "nodes = pos\n",
        "\n",
        "# Tambahkan node dari list variabel `nodes` pada graf data_budi\n",
        "data_budi.add_nodes_from(nodes)\n",
        "\n",
        "# Tampilkan graf data_budi setelah penambahan node\n",
        "show_graph(data_budi, pos=pos, title='')"
      ]
    },
    {
      "cell_type": "markdown",
      "metadata": {
        "id": "mDJXwVSyX_Z7"
      },
      "source": [
        "Contoh *output*:\n",
        "\n",
        "![Contoh output penambahan lokasi](./asset/3_tambahfilefolder_databudi.png)"
      ]
    },
    {
      "cell_type": "markdown",
      "metadata": {
        "id": "Ke1d6N4mX_Z7"
      },
      "source": [
        "**c.** Berikut adalah daftar isi dari setiap folder. Hubungkan tree berdasarkan isi dari setiap folder pada laptop Budi.\n",
        "- `Root` berisi `Documents`, `Images`, dan `Videos`.\n",
        "- `Documents` berisi `File4.docx` dan `File1.txt`.\n",
        "- `Images` berisi `File2.jpg`.\n",
        "- `Videos` berisi `File3.mp4`."
      ]
    },
    {
      "cell_type": "code",
      "execution_count": null,
      "metadata": {
        "id": "WGWe-MLCX_Z8",
        "colab": {
          "base_uri": "https://localhost:8080/",
          "height": 512
        },
        "outputId": "5581212c-1984-4c60-986e-35f53fbe6821"
      },
      "outputs": [
        {
          "output_type": "display_data",
          "data": {
            "text/plain": [
              "<Figure size 640x480 with 1 Axes>"
            ],
            "image/png": "[encoded data removed]"
          },
          "metadata": {}
        }
      ],
      "source": [
        "# Daftar isi dari setiap folder yang direpresentasikan dengan edge.\n",
        "edges = [\n",
        "    (\"Root\", \"Documents\"),\n",
        "    (\"Root\", \"Images\"),\n",
        "    (\"Root\", \"Videos\"),\n",
        "    (\"Documents\", \"File4.docx\"),\n",
        "    (\"Documents\", \"File1.txt\"),\n",
        "    (\"Images\", \"File2.jpg\"),\n",
        "    (\"Videos\", \"File3.mp4\")\n",
        "]\n",
        "\n",
        "# Tambahkan edge ke dalam graf data_budi\n",
        "data_budi.add_edges_from(edges)\n",
        "\n",
        "# Tampilkan graf data_budi setelah penambahan edge\n",
        "show_graph(data_budi, pos=pos, title='')"
      ]
    },
    {
      "cell_type": "markdown",
      "metadata": {
        "id": "1yBOq3bfX_Z8"
      },
      "source": [
        "Contoh *output*:\n",
        "\n",
        "![Contoh output penambahan lokasi](./asset/4_tambahedgefolder_databudi.png)"
      ]
    },
    {
      "cell_type": "markdown",
      "metadata": {
        "id": "BxC16uyyX_Z8"
      },
      "source": [
        "**d.** Buat sebuah program yang memanfaatkan tree `data_budi` untuk mencetak setiap folder beserta daftar isi dari folder tersebut."
      ]
    },
    {
      "cell_type": "code",
      "execution_count": null,
      "metadata": {
        "id": "cnmFl1BEX_Z8",
        "colab": {
          "base_uri": "https://localhost:8080/"
        },
        "outputId": "8070c5a5-d17e-4594-84e4-6b49e427dde3"
      },
      "outputs": [
        {
          "output_type": "stream",
          "name": "stdout",
          "text": [
            "Daftar Folder beserta isinya di laptop Budi\n",
            "- Root berisi: ['Documents', 'Images', 'Videos']\n",
            "- Documents berisi: ['File4.docx', 'File1.txt']\n",
            "- Images berisi: ['File2.jpg']\n",
            "- Videos berisi: ['File3.mp4']\n"
          ]
        }
      ],
      "source": [
        "print(\"Daftar Folder beserta isinya di laptop Budi\")\n",
        "\n",
        "# Iterasi untuk setiap node (folder/file) yang ada di graf `data_budi`\n",
        "for node in data_budi.nodes():\n",
        "    # Ambil semua node yang terhubung dengan node saat ini\n",
        "    children = list(data_budi.neighbors(node))\n",
        "\n",
        "    # Jika folder memiliki isi, tampilkan daftarnya\n",
        "    if children :\n",
        "        # Tampilkan folder beserta daftar isinya\n",
        "        print(f\"- {node} berisi: {children}\")"
      ]
    },
    {
      "cell_type": "markdown",
      "metadata": {
        "id": "EdngHEqYX_Z9"
      },
      "source": [
        "Contoh *output* :\n",
        "\n",
        "```\n",
        "Daftar Folder beserta isinya di laptop Budi\n",
        "- Root berisi: ['Documents', 'Images', 'Videos']\n",
        "- Documents berisi: ['File1.txt', 'File4.docx']\n",
        "- Images berisi: ['File2.jpg']\n",
        "- Videos berisi: ['File3.mp4']\n",
        "```"
      ]
    },
    {
      "cell_type": "markdown",
      "metadata": {
        "id": "TLUlhSrRX_Z9"
      },
      "source": [
        "**e.** Tampilkan urutan **folder dan file** yang dilalui dengan node asal `Root` menggunakan algoritma DFS yang disediakan dari NetworkX."
      ]
    },
    {
      "cell_type": "code",
      "execution_count": null,
      "metadata": {
        "id": "MEtnKebkX_Z9",
        "colab": {
          "base_uri": "https://localhost:8080/"
        },
        "outputId": "ae64c828-fe18-43ee-dfec-4a5acca1193f"
      },
      "outputs": [
        {
          "output_type": "stream",
          "name": "stdout",
          "text": [
            "['Root', 'Documents', 'Images', 'Videos', 'File4.docx', 'File1.txt', 'File2.jpg', 'File3.mp4']\n"
          ]
        }
      ],
      "source": [
        "dfs_edges = list(nx.dfs_edges(data_budi, source='Root'))\n",
        "print(list(data_budi))"
      ]
    },
    {
      "cell_type": "markdown",
      "metadata": {
        "id": "j6MHSrBZX_Z9"
      },
      "source": [
        "Contoh *output* :\n",
        "```\n",
        "[('Root', 'Documents'), ('Documents', 'File1.txt'), ('Documents', 'File4.docx'), ('Root', 'Images'), ('Images', 'File2.jpg'), ('Root', 'Videos'), ('Videos', 'File3.mp4')]\n",
        "```"
      ]
    },
    {
      "cell_type": "markdown",
      "metadata": {
        "id": "QeD7G1MzX_Z-"
      },
      "source": [
        "**f.** Buatlah sebuah fungsi `dfs_search(graph, start, goal)` yang akan mencari dan menampilkan jalur dari node awal (`start`) ke node tujuan (`goal`) menggunakan algoritma DFS dengan deskripsi berikut:\n",
        "- Gunakan stack untuk menyimpan node yang akan ditelusuri.\n",
        "- Setiap elemen pada stack menyimpan `(current_node, path)` yang terdiri dari node saat ini dan jalur yang ditempuh hingga node tersebut.\n",
        "- Lakukan iterasi DFS dengan memproses node terakhir dari stack.\n",
        "- Jika `current_node` sama dengan `goal`, kembalikan jalur (`path`) yang telah ditemukan.\n",
        "- Jika node saat ini memiliki tetangga yang belum dikunjungi, tambahkan tetangga tersebut ke stack."
      ]
    },
    {
      "cell_type": "code",
      "execution_count": null,
      "metadata": {
        "id": "a1syx7TMX_Z-"
      },
      "outputs": [],
      "source": [
        "def dfs_search(graph, start, goal):\n",
        "    # Inisialisasi stack dengan tuple (node saat ini, jalur yang ditempuh)\n",
        "    stack = [(start, [start])]\n",
        "\n",
        "    # Iterasi selama stack tidak kosong\n",
        "    while stack:\n",
        "         # Ambil node terakhir dari stack bersama jalurnya\n",
        "        current_node, path = stack.pop()\n",
        "\n",
        "        # Jika node saat ini adalah node tujuan, kembalikan jalur yang ditemukan\n",
        "        if current_node == goal:\n",
        "            return path\n",
        "\n",
        "        # Tambahkan semua node tetangga yang belum dikunjungi ke stack\n",
        "        for neighbor in graph.neighbors(current_node):\n",
        "             # Pastikan tetangga belum ada di path untuk menghindari loop\n",
        "            if neighbor not in path:\n",
        "                # Tambahkan tetangga ke stack dengan jalur baru\n",
        "                stack.append((neighbor, path + [neighbor]))\n",
        "\n",
        "    # Jika tidak ada jalur yang ditemukan, kembalikan None\n",
        "    return None # Biarkan NONE!!"
      ]
    },
    {
      "cell_type": "markdown",
      "metadata": {
        "id": "iEReQORlX_Z-"
      },
      "source": [
        "**g.** Buatlah sebuah program yang dapat melakukan langkah-langkah berikut:\n",
        "- Meminta input pengguna sebagai titik awal folder pada variabel `start_node`.\n",
        "- Meminta input pengguna untuk file yang dicari pada variabel `end_node`.\n",
        "- Gunakan fungsi `dfs_search()` untuk menemukan urutan folder yang harus dikunjungi.\n",
        "- Jika terdapat jalur dari `start_node` ke `end_node`, tampilkan folder mana saja yang harus dikunjungi."
      ]
    },
    {
      "cell_type": "code",
      "execution_count": null,
      "metadata": {
        "id": "Nog7q21bX_Z-",
        "colab": {
          "base_uri": "https://localhost:8080/"
        },
        "outputId": "74ca269b-acc4-4c46-e605-30839c22a769"
      },
      "outputs": [
        {
          "output_type": "stream",
          "name": "stdout",
          "text": [
            "Node awal: Root\n",
            "Node akhir: File2.jpg\n",
            "Rute yang harus dilalui dari Root ke File2.jpg: ['Root', 'Images', 'File2.jpg']\n"
          ]
        }
      ],
      "source": [
        "# Minta input dari pengguna untuk node awal dan node tujuan\n",
        "start_node = str(input(\"Node awal: \"))\n",
        "end_node = str(input(\"Node akhir: \"))\n",
        "# Temukan jalur dari titik awal ke titik tujuan menggunakan DFS\n",
        "path = dfs_search(data_budi, start_node, end_node)\n",
        "\n",
        "# Tampilkan hasil penelusuran\n",
        "if path:\n",
        "    print(f\"Rute yang harus dilalui dari {start_node} ke {end_node}: {path}\")\n",
        "else:\n",
        "    print(f\"Tidak ada rute yang menghubungkan {start_node} ke {end_node}.\")"
      ]
    },
    {
      "cell_type": "markdown",
      "metadata": {
        "id": "RzJshpLoX_Z-"
      },
      "source": [
        "Contoh *output*:\n",
        "\n",
        "|input|output|\n",
        "|-----|------|\n",
        "|Masukkan folder/file awal: `Root`<br>Masukkan folder/file tujuan: `File2.jpg`|Rute yang harus dilalui dari Root ke File2.jpg: ['Root', 'Images', 'File2.jpg']|\n",
        "|Masukkan folder/file awal: `Root`<br>Masukkan folder/file tujuan: `File4.docx`|Rute yang harus dilalui dari Root ke File4.docx: ['Root', 'Documents', 'File4.docx']|"
      ]
    }
  ],
  "metadata": {
    "kernelspec": {
      "display_name": "base",
      "language": "python",
      "name": "python3"
    },
    "language_info": {
      "codemirror_mode": {
        "name": "ipython",
        "version": 3
      },
      "file_extension": ".py",
      "mimetype": "text/x-python",
      "name": "python",
      "nbconvert_exporter": "python",
      "pygments_lexer": "ipython3",
      "version": "3.8.18"
    },
    "colab": {
      "provenance": [],
      "include_colab_link": true
    }
  },
  "nbformat": 4,
  "nbformat_minor": 0
}